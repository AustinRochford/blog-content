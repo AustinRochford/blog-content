{
 "metadata": {
  "name": ""
 },
 "nbformat": 3,
 "nbformat_minor": 0,
 "worksheets": [
  {
   "cells": [
    {
     "cell_type": "markdown",
     "metadata": {},
     "source": [
      "Pardon the ugly imports."
     ]
    },
    {
     "cell_type": "code",
     "collapsed": false,
     "input": [
      "from matplotlib import pyplot as plt\n",
      "import numpy as np\n",
      "from scipy import stats\n",
      "from sklearn.base import BaseEstimator\n",
      "from sklearn.grid_search import GridSearchCV\n",
      "from sklearn.linear_model import LinearRegression\n",
      "from sklearn.metrics import mean_squared_error"
     ],
     "language": "python",
     "metadata": {},
     "outputs": [],
     "prompt_number": 1
    },
    {
     "cell_type": "markdown",
     "metadata": {},
     "source": [
      "As someone initially trained in pure mathematics and then in mathematical statistics, [cross-validation](http://en.wikipedia.org/wiki/Cross-validation_%28statistics%29) was the first machine learning concept that was a revelation to me.  My experience teaching college calculus has taught me the power of counterexamples for illustrating the necessity of the hypothesis of a theorem.  (One of my favorite math books is [_Counterexamples in Analysis_](http://www.amazon.com/Counterexamples-Analysis-Dover-Books-Mathematics/dp/0486428753).)  While cross-validation is not a theorem, per se, this post explores an example that I have found quite persuasive.\n",
      "\n",
      "In this example, we consider the problem of [polynomial regression](http://en.wikipedia.org/wiki/Polynomial_regression).  We will attempt to recover the polynomial $p(x) = x^3 - 3 x^2 + 2 x + 1$ from noisy observations."
     ]
    },
    {
     "cell_type": "code",
     "collapsed": false,
     "input": [
      "def p(x):\n",
      "    return x**3 - 3 * x**2 + 2 * x + 1"
     ],
     "language": "python",
     "metadata": {},
     "outputs": [],
     "prompt_number": 2
    },
    {
     "cell_type": "markdown",
     "metadata": {},
     "source": [
      "We assume that our data is generated from a polynomial of unknown degree, $p(x)$ via the model $Y = p(X) + \\varepsilon$ where $\\varepsilon \\sim N(0, \\sigma^2)$.  First, we generate $N = 12$ samples from the true model, where $X$ is uniformly distributed on the interval $[0, 3]$ and $\\sigma^2 = 0.1$."
     ]
    },
    {
     "cell_type": "code",
     "collapsed": false,
     "input": [
      "np.random.seed(145837)"
     ],
     "language": "python",
     "metadata": {},
     "outputs": [],
     "prompt_number": 3
    },
    {
     "cell_type": "code",
     "collapsed": false,
     "input": [
      "N = 12\n",
      "var = 10**-1\n",
      "\n",
      "left = 0\n",
      "right = 3\n",
      "\n",
      "xs = stats.uniform.rvs(left, right, size=N)\n",
      "eps = stats.norm.rvs(0, np.sqrt(var), size=N)\n",
      "ys = p(xs) + eps"
     ],
     "language": "python",
     "metadata": {},
     "outputs": [],
     "prompt_number": 4
    },
    {
     "cell_type": "markdown",
     "metadata": {},
     "source": [
      "Next we implement a class for polynomial regression.  In order to use our class with [`scikit-learn`](http://scikit-learn.org/stable/)'s [cross-validation framework](http://scikit-learn.org/stable/model_selection.html#model-selection), we derive from `sklearn.base.BaseEstimator`.  While we don't wish to belabor the mathematical formulation of polynomial regression (fascinating though it is), we will explain the basic idea, so that our implementation seems at least plausible.  In its simplest formulation, polynomial regression uses finds the least squares relationship between the observed responses and the [Vandermonde matrix](http://en.wikipedia.org/wiki/Vandermonde_matrix) (in our case, computed using [`numpy.vander`](http://docs.scipy.org/doc/numpy/reference/generated/numpy.vander.html)) of the observed predictors."
     ]
    },
    {
     "cell_type": "code",
     "collapsed": false,
     "input": [
      "class PolynomialRegression(BaseEstimator):\n",
      "    def __init__(self, deg=None):\n",
      "        self.deg = deg\n",
      "    \n",
      "    def fit(self, X, y, deg=None):\n",
      "        self.model = LinearRegression(fit_intercept=False)\n",
      "        self.model.fit(np.vander(X, N=self.deg + 1), y)\n",
      "    \n",
      "    def predict(self, x):\n",
      "        return self.model.predict(np.vander(x, N=self.deg + 1))\n",
      "    \n",
      "    @property\n",
      "    def coef_(self):\n",
      "        return self.model.coef_"
     ],
     "language": "python",
     "metadata": {},
     "outputs": [],
     "prompt_number": 5
    },
    {
     "cell_type": "markdown",
     "metadata": {},
     "source": [
      "Note that this is quite a naive approach to polynomial regression as all of the non-constant predictors, that is, $x, x^2, x^3, \\ldots, x^d$, will be quite correlated.  This naive approach is, however, sufficient for our example.\n",
      "\n",
      "The `PolynomialRegression` class depends on the degree of the polynomial to be fit.  If we know the degree of the polynomial that generated the data, then the regression is straightforward."
     ]
    },
    {
     "cell_type": "code",
     "collapsed": false,
     "input": [
      "known_degree_model = PolynomialRegression(deg=3)\n",
      "known_degree_model.fit(xs, ys)\n",
      "known_degree_model.coef_"
     ],
     "language": "python",
     "metadata": {},
     "outputs": [
      {
       "metadata": {},
       "output_type": "pyout",
       "prompt_number": 6,
       "text": [
        "array([ 1.03303734, -3.21335403,  2.26034212,  0.88016067])"
       ]
      }
     ],
     "prompt_number": 6
    },
    {
     "cell_type": "markdown",
     "metadata": {},
     "source": [
      "These values are the coefficients of the fit polynomial, starting with the coefficient of $x^3$.  We see that they come reasonably close to the true values, from a relatively small set of samples.  As neat and tidy as this solution is, we are concerned with the more interesting case where we do not know the degree of the polynomial.\n",
      "\n",
      "If we approach the problem of choosing the correct degree without cross validation, it is extremely tempting to minimize the in-sample error of the fit polynomial.  That is, if $(X_1, Y_1), \\ldots, (X_N, Y_N)$ are our observations, and $\\hat{p}(x)$ is our regression polynomial, we are tempted to minimize the mean squared error,\n",
      "\n",
      "$$\n",
      "\\begin{align*}\n",
      "MSE(\\hat{p})\n",
      "    & = \\sum_{i = 1}^N \\left( \\hat{p}(X_i) - Y_i \\right)^2.\n",
      "\\end{align*}\n",
      "$$\n",
      "\n",
      "It is actually quite straightforward to choose a degree that will case this mean squared error to vanish.  Since two points uniquely identify a line, three points uniquely identify a parabola, four points uniquely identify a cubic, etc., we see that our $N$ data points uniquely specify a polynomial of degree $N - 1$."
     ]
    },
    {
     "cell_type": "code",
     "collapsed": false,
     "input": [
      "overfit_model = PolynomialRegression(deg=N - 1)\n",
      "overfit_model.fit(xs, ys)"
     ],
     "language": "python",
     "metadata": {},
     "outputs": [],
     "prompt_number": 7
    },
    {
     "cell_type": "code",
     "collapsed": false,
     "input": [
      "fig = plt.figure()\n",
      "ax = fig.add_subplot(111)\n",
      "\n",
      "plot_xs = np.linspace(left, right, (right - left) * 100)\n",
      "\n",
      "ax.scatter(xs, ys);\n",
      "ax.plot(plot_xs, np.clip(overfit_model.predict(plot_xs), -1, 7), color='k', label='Overfit estimator');\n",
      "ax.plot(plot_xs, p(plot_xs), color='r', label='True polynomial');\n",
      "ax.legend(loc=2);"
     ],
     "language": "python",
     "metadata": {},
     "outputs": [
      {
       "metadata": {},
       "output_type": "display_data",
       "png": "[encoded data removed]",
       "text": [
        "<matplotlib.figure.Figure at 0x4275e50>"
       ]
      }
     ],
     "prompt_number": 8
    },
    {
     "cell_type": "markdown",
     "metadata": {},
     "source": [
      "As we can see from this plot, the fitted $N - 1$-degree polynomial is significantly less smooth than the true polynomial, $p$.  This roughness results from the fact that the $N - 1$-degree polynomial has enough parameters to account for the noise in the model, instead of the true underlying structure of the data.  Such a model is called overparametrized or overfit.  While its mean squared error on the training data, its in-sample error, is quite small,"
     ]
    },
    {
     "cell_type": "code",
     "collapsed": false,
     "input": [
      "mean_squared_error(overfit_model.predict(xs), ys)"
     ],
     "language": "python",
     "metadata": {},
     "outputs": [
      {
       "metadata": {},
       "output_type": "pyout",
       "prompt_number": 9,
       "text": [
        "2.0039043409236146e-15"
       ]
      }
     ],
     "prompt_number": 9
    },
    {
     "cell_type": "markdown",
     "metadata": {},
     "source": [
      "It will not, however, perform well when used to predict the value of $p$ at points not in the training set.  (Note that this in-sample error should theoretically be zero.  The small positive value is due to rounding errors.)  To illustrate this inaccuracy, we generate ten more points uniformly distributed in the interval $[0, 3]$ and use the overfit model to predict the value of $p$ at those points."
     ]
    },
    {
     "cell_type": "code",
     "collapsed": false,
     "input": [
      "N_prediction = 10\n",
      "\n",
      "prediction_xs = stats.uniform.rvs(left, right, size=N_prediction)\n",
      "prediction_eps = stats.norm.rvs(0, np.sqrt(var), size=N_prediction)\n",
      "prediction_ys = p(prediction_xs) + prediction_eps\n",
      "\n",
      "mean_squared_error(overfit_model.predict(prediction_xs), prediction_ys)"
     ],
     "language": "python",
     "metadata": {},
     "outputs": [
      {
       "metadata": {},
       "output_type": "pyout",
       "prompt_number": 10,
       "text": [
        "19.539402955310337"
       ]
      }
     ],
     "prompt_number": 10
    },
    {
     "cell_type": "markdown",
     "metadata": {},
     "source": [
      "We see that the prediction error is many orders of magnitude larger than the in-sample error.  This awful predictive performance of a model with excellent in-sample error illustrates the need for cross-validation to prevent overfitting.\n",
      "\n",
      "Here we use `scikit-learn`'s [`GridSearchCV`](http://scikit-learn.org/stable/modules/generated/sklearn.grid_search.GridSearchCV.html) to choose the degree of the polynomial using three-fold cross-validation.  We constrain our search to degrees between one and twenty-five."
     ]
    },
    {
     "cell_type": "code",
     "collapsed": false,
     "input": [
      "estimator = PolynomialRegression()\n",
      "degrees = np.arange(1, 25)\n",
      "cv_model = GridSearchCV(estimator,\n",
      "                        param_grid={'deg': degrees},\n",
      "                        scoring='mean_squared_error')\n",
      "cv_model.fit(xs, ys);"
     ],
     "language": "python",
     "metadata": {},
     "outputs": [],
     "prompt_number": 11
    },
    {
     "cell_type": "code",
     "collapsed": false,
     "input": [
      "cv_model.best_params_, cv_model.best_estimator_.coef_"
     ],
     "language": "python",
     "metadata": {},
     "outputs": [
      {
       "metadata": {},
       "output_type": "pyout",
       "prompt_number": 12,
       "text": [
        "({'deg': 3}, array([ 1.03303734, -3.21335403,  2.26034212,  0.88016067]))"
       ]
      }
     ],
     "prompt_number": 12
    },
    {
     "cell_type": "markdown",
     "metadata": {},
     "source": [
      "We see that cross-validation has chosen the correct degree of the polynomial, and recovered the same coefficients as the model with known degree."
     ]
    },
    {
     "cell_type": "code",
     "collapsed": false,
     "input": [
      "fig = plt.figure()\n",
      "ax = fig.add_subplot(111)\n",
      "\n",
      "plt.scatter(xs, ys);\n",
      "ax.plot(plot_xs, np.clip(overfit_model.predict(plot_xs), -1, 7), color='k', label='Overfit estimator');\n",
      "plt.plot(plot_xs, cv_model.predict(plot_xs), color='b', label='Cross-validated estimator');\n",
      "ax.plot(plot_xs, p(plot_xs), color='r', label='True polynomial');\n",
      "ax.legend(loc=2);"
     ],
     "language": "python",
     "metadata": {},
     "outputs": [
      {
       "metadata": {},
       "output_type": "display_data",
       "png": "[encoded data removed]",
       "text": [
        "<matplotlib.figure.Figure at 0x4b8a790>"
       ]
      }
     ],
     "prompt_number": 13
    },
    {
     "cell_type": "markdown",
     "metadata": {},
     "source": [
      "We see that the cross-validated estimator is much smoother and closer to the true polynomial than the overfit estimator.  The in-sample error of the cross-validated estimator is"
     ]
    },
    {
     "cell_type": "code",
     "collapsed": false,
     "input": [
      "mean_squared_error(cv_model.predict(xs), ys)"
     ],
     "language": "python",
     "metadata": {},
     "outputs": [
      {
       "metadata": {},
       "output_type": "pyout",
       "prompt_number": 14,
       "text": [
        "0.039089250360265018"
       ]
      }
     ],
     "prompt_number": 14
    },
    {
     "cell_type": "markdown",
     "metadata": {},
     "source": [
      "and the prediction error is"
     ]
    },
    {
     "cell_type": "code",
     "collapsed": false,
     "input": [
      "mean_squared_error(cv_model.predict(prediction_xs), prediction_ys)"
     ],
     "language": "python",
     "metadata": {},
     "outputs": [
      {
       "metadata": {},
       "output_type": "pyout",
       "prompt_number": 15,
       "text": [
        "0.15873290784021762"
       ]
      }
     ],
     "prompt_number": 15
    },
    {
     "cell_type": "markdown",
     "metadata": {},
     "source": [
      "These errors are much closer than the corresponding errors of the overfit model.\n",
      "\n",
      "To further illustrate the advantages of cross-validation, we show the following graph of the negative score versus the degree of the fit polynomial."
     ]
    },
    {
     "cell_type": "code",
     "collapsed": false,
     "input": [
      "fig = plt.figure()\n",
      "ax = fig.add_subplot(111)\n",
      "\n",
      "scores = np.array([grid_score.mean_validation_score for grid_score in cv_model.grid_scores_])\n",
      "ax.plot(degrees, -scores);\n",
      "ax.set_yscale('log');\n",
      "ax.set_ylabel('-1 * Score');\n",
      "ax.set_xlabel('Degree');"
     ],
     "language": "python",
     "metadata": {},
     "outputs": [
      {
       "metadata": {},
       "output_type": "display_data",
       "png": "[encoded data removed]",
       "text": [
        "<matplotlib.figure.Figure at 0x4f202d0>"
       ]
      }
     ],
     "prompt_number": 16
    },
    {
     "cell_type": "markdown",
     "metadata": {},
     "source": [
      "The cross-validation process seeks to maximize score and therefore minimize the negative score.  (We have plotted negative score here in order to be able to use a logarithmic scale.)  We see that this quantity is minimized at degree three and explodes as the degree of the polynomial increases (note the logarithmic scale).  While overfitting the model may decrease the in-sample error, this graph shows that the cross-validation score and therefore the predictive accuracy increases at a phenomenal rate."
     ]
    },
    {
     "cell_type": "code",
     "collapsed": false,
     "input": [],
     "language": "python",
     "metadata": {},
     "outputs": [],
     "prompt_number": 16
    }
   ],
   "metadata": {}
  }
 ]
}